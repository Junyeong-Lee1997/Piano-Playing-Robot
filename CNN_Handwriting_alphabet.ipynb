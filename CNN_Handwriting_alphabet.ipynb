{
 "cells": [
  {
   "cell_type": "code",
   "execution_count": null,
   "id": "499803ca",
   "metadata": {},
   "outputs": [],
   "source": [
    "#필요한 모듈 임포트\n",
    "import numpy as np \n",
    "import pandas as pd \n",
    "import matplotlib.pyplot as plt\n",
    "import seaborn as sns\n",
    "import os\n",
    "from sklearn.preprocessing import MinMaxScaler\n",
    "import tensorflow as tf\n",
    "from keras.models import Sequential\n",
    "from keras.layers import Dense\n",
    "from keras.layers import Dropout\n",
    "from keras.layers import Flatten\n",
    "from keras.layers.convolutional import Conv2D\n",
    "from keras.layers.convolutional import MaxPooling2D\n",
    "from keras import backend as K\n",
    "from keras.utils import np_utils\n",
    "from sklearn.model_selection import train_test_split\n",
    "from sklearn.metrics import confusion_matrix\n",
    "\n",
    "#ignore warning messages \n",
    "import warnings\n",
    "warnings.filterwarnings('ignore') \n",
    "\n",
    "sns.set()"
   ]
  },
  {
   "cell_type": "code",
   "execution_count": null,
   "id": "45bf60f9",
   "metadata": {},
   "outputs": [],
   "source": [
    "tf.test.gpu_device_name()"
   ]
  },
  {
   "cell_type": "code",
   "execution_count": null,
   "id": "b8e6e7db",
   "metadata": {},
   "outputs": [],
   "source": [
    "for gpu in tf.config.experimental.list_physical_devices(\"GPU\"):\n",
    "    tf.config.experimental.set_memory_growth(gpu, True)"
   ]
  },
  {
   "cell_type": "code",
   "execution_count": null,
   "id": "708aa7c5",
   "metadata": {},
   "outputs": [],
   "source": [
    "#csv 파일 열고 라벨과 데이터 나누기\n",
    "\n",
    "dataset = pd.read_csv(\"D:/ai/Robotics/CFG.csv\", header=None).astype('float32') \n",
    "\n",
    "X = dataset.iloc[:,1:785]\n",
    "y = dataset.iloc[:,0]"
   ]
  },
  {
   "cell_type": "markdown",
   "id": "106a5d0e",
   "metadata": {},
   "source": [
    "Data Preparation"
   ]
  },
  {
   "cell_type": "code",
   "execution_count": null,
   "id": "a2718767",
   "metadata": {},
   "outputs": [],
   "source": [
    "# splite the data\n",
    "X_train, X_test, y_train, y_test = train_test_split(X,y)\n",
    "\n",
    "# scale data\n",
    "standard_scaler = MinMaxScaler()\n",
    "standard_scaler.fit(X_train)\n",
    "\n",
    "X_train = standard_scaler.transform(X_train)\n",
    "X_test = standard_scaler.transform(X_test)"
   ]
  },
  {
   "cell_type": "code",
   "execution_count": null,
   "id": "40de7bde",
   "metadata": {},
   "outputs": [],
   "source": [
    "print(\"Data after scaler\")\n",
    "X_shuffle = shuffle(X_train)"
   ]
  },
  {
   "cell_type": "code",
   "execution_count": null,
   "id": "21549e79",
   "metadata": {},
   "outputs": [],
   "source": [
    "#이미지 다시 28*28로 만들고 트레인, 테스트 데이터셋으로 나누기\n",
    "\n",
    "X_train = X_train.reshape(X_train.shape[0], 28, 28, 1).astype('float32')\n",
    "X_test = X_test.reshape(X_test.shape[0], 28, 28, 1).astype('float32')\n",
    "\n",
    "y_train = np_utils.to_categorical(y_train)\n",
    "y_test = np_utils.to_categorical(y_test)"
   ]
  },
  {
   "cell_type": "markdown",
   "id": "56700d40",
   "metadata": {},
   "source": [
    "Buid the Model"
   ]
  },
  {
   "cell_type": "code",
   "execution_count": null,
   "id": "9dbc42ab",
   "metadata": {
    "scrolled": true
   },
   "outputs": [],
   "source": [
    "#모델 설정 및 학습 \n",
    "\n",
    "cls = Sequential()\n",
    "cls.add(Conv2D(32, (5, 5), input_shape=(28, 28, 1), activation='relu'))\n",
    "cls.add(MaxPooling2D(pool_size=(2, 2)))\n",
    "cls.add(Dropout(0.3))\n",
    "cls.add(Flatten())\n",
    "cls.add(Dense(128, activation='relu'))\n",
    "cls.add(Dense(len(y.unique()), activation='softmax'))\n",
    "\n",
    "cls.compile(loss='categorical_crossentropy', optimizer='adam', metrics=['accuracy'])\n",
    "history = cls.fit(X_train, y_train, validation_data=(X_test, y_test), epochs=100, batch_size=256, verbose=2)\n",
    "\n",
    "scores = cls.evaluate(X_test,y_test, verbose=0)\n",
    "print(\"CNN Score:\",scores[1])"
   ]
  },
  {
   "cell_type": "code",
   "execution_count": null,
   "id": "93325bde",
   "metadata": {},
   "outputs": [],
   "source": [
    "#학습 결과 플로팅\n",
    "\n",
    "plt.plot(history.history['loss'])\n",
    "plt.plot(history.history['val_loss'])\n",
    "plt.title('Model loss')\n",
    "plt.ylabel('Loss')\n",
    "plt.xlabel('Epoch')\n",
    "plt.legend(['Train', 'Test'], loc='upper left')\n",
    "plt.show()"
   ]
  },
  {
   "cell_type": "code",
   "execution_count": null,
   "id": "a5c569a3",
   "metadata": {},
   "outputs": [],
   "source": [
    "#모델 저장하기\n",
    "\n",
    "cls.save('CFG_E100_B256.h5')"
   ]
  }
 ],
 "metadata": {
  "kernelspec": {
   "display_name": "Python 3",
   "language": "python",
   "name": "python3"
  },
  "language_info": {
   "codemirror_mode": {
    "name": "ipython",
    "version": 3
   },
   "file_extension": ".py",
   "mimetype": "text/x-python",
   "name": "python",
   "nbconvert_exporter": "python",
   "pygments_lexer": "ipython3",
   "version": "3.8.5"
  }
 },
 "nbformat": 4,
 "nbformat_minor": 5
}
