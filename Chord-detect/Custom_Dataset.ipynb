{
 "cells": [
  {
   "cell_type": "code",
   "execution_count": 6,
   "id": "7f194899",
   "metadata": {},
   "outputs": [],
   "source": [
    "#필요한 모듈 임포트\n",
    "\n",
    "import cv2\n",
    "import numpy as np\n",
    "from datetime import datetime\n",
    "import os \n",
    "\n",
    "path = 'D:/ai/data_diatonic' #경로 설정 (학습 시킬 코드 악보 데이터셋 넣어둔 곳)\n",
    "file_list = os.listdir(path) #경로에 있는 악보들을 리스트에 담기\n",
    "\n",
    "n=0\n",
    "num=0\n",
    "for i in range(len(file_list)):\n",
    "    n=n+1\n",
    "    now = datetime.now()\n",
    "    src=cv2.imread('D:/ai/data_diatonic/IMG_%d.jpg'%(n)) #이미지 불러오기\n",
    "    dst = cv2.resize(src, dsize=(0,0), fx=0.3, fy=0.3, interpolation=cv2.INTER_LINEAR) #이미지 크기 조절\n",
    "\n",
    "    rec=[[ 18,  35,  30 , 30], #OpenCV의 특정 사각형 영역에 대한 정보를 담는 리스트\n",
    "         [133 , 44,  28 , 22],\n",
    "         [244 , 45 , 28,  22],\n",
    "         [346 , 38  ,32 , 28],\n",
    "         [ 18 ,114 , 26 , 28],\n",
    "         [131 ,122  ,32 , 24],\n",
    "         [243, 120,  32 , 26],\n",
    "         [343 ,124  ,30 , 22],\n",
    "         [ 16 ,196,  34 , 26],\n",
    "         [131 ,199  ,36 , 26],\n",
    "         [243, 196  ,34 , 30],\n",
    "         [343 ,198 , 38  ,30],\n",
    "         [ 16, 274 , 38 , 28],\n",
    "         [133 ,274,  34,  26],\n",
    "         [238 ,272,  38 , 30],\n",
    "         [343 ,274  ,36 , 30],\n",
    "         [ 16 ,352 , 36,  28],\n",
    "         [128, 350 , 38  ,30],\n",
    "         [238 ,351  ,38,  30],\n",
    "         [339 ,354,38  ,26],\n",
    "         [ 16 ,425,  34,  30],\n",
    "         [128 ,426,  38,  32],\n",
    "         [239 ,424,  40,  34],\n",
    "         [342, 428 , 36  ,28],\n",
    "         [ 15 ,500 , 36 , 28],\n",
    "         [130, 500 , 34,  30],\n",
    "         [239 ,504 , 36 , 30],\n",
    "         [344, 504  ,34,  30]]\n",
    "\n",
    "    \n",
    "    for r in rec:\n",
    "        num=num+1\n",
    "            \n",
    "        if r[1] and r[2]:\n",
    "            roi=dst[r[1]:r[1]+r[3],r[0]:r[0]+r[2]] #악보의 특정 영역에 대한 정보 이미지로 만들기\n",
    "            roi2 = cv2.resize( roi, dsize=(28,28)) #이미지 파일 크기를 28*28로  변환\n",
    "            im_gray = cv2.cvtColor(roi2, cv2.COLOR_BGR2GRAY) #채널을 1로 설정하기 위해 흑백화\n",
    "            cv2.imwrite('D:/ai/data_diatonic_after/ChordImage%d.jpg'%(num), im_gray) #새로운 경로에 코드 각각의 이미지 데이터 저장\n",
    "\n",
    "    cv2.waitKey(0)\n",
    "    cv2.destroyAllWindows()"
   ]
  },
  {
   "cell_type": "code",
   "execution_count": 14,
   "id": "b965073a",
   "metadata": {},
   "outputs": [],
   "source": [
    "from PIL import Image #필요한 모듈 임포트\n",
    "import csv"
   ]
  },
  {
   "cell_type": "code",
   "execution_count": 15,
   "id": "cc9f0318",
   "metadata": {},
   "outputs": [],
   "source": [
    "path1 = 'D:/ai/data_diatonic_after' #csv로 저장시킬 코드 이미지 경로 설정\n",
    "file_list1 = os.listdir(path1) #이미지 경로의 코드를 리스트에 저장\n",
    "for i in range(len(file_list1)): \n",
    "\n",
    "    img = np.array(Image.open(\"D:/ai/data_diatonic_after/ChordImage%d.jpg\"%(1+i))).reshape(-1,) #이미지 한줄로 펴기\n",
    "    example = img.tolist()\n",
    "    with open('Diatonic5'+'.csv', 'a', newline='') as csvfile: #이미지 파일 하나의 정보를 한 줄로 csv 파일로 저장 (총 이미지 수 8960개)\n",
    "        writer = csv.writer(csvfile, delimiter=',')\n",
    "        writer.writerow(example)"
   ]
  },
  {
   "cell_type": "code",
   "execution_count": 12,
   "id": "55142351",
   "metadata": {},
   "outputs": [
    {
     "data": {
      "text/plain": [
       "8960"
      ]
     },
     "execution_count": 12,
     "metadata": {},
     "output_type": "execute_result"
    }
   ],
   "source": [
    "len(file_list1)"
   ]
  }
 ],
 "metadata": {
  "kernelspec": {
   "display_name": "Python 3",
   "language": "python",
   "name": "python3"
  },
  "language_info": {
   "codemirror_mode": {
    "name": "ipython",
    "version": 3
   },
   "file_extension": ".py",
   "mimetype": "text/x-python",
   "name": "python",
   "nbconvert_exporter": "python",
   "pygments_lexer": "ipython3",
   "version": "3.8.5"
  }
 },
 "nbformat": 4,
 "nbformat_minor": 5
}
